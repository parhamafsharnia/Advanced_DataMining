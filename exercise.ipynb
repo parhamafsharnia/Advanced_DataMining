{
 "cells": [
  {
   "cell_type": "code",
   "execution_count": 1,
   "id": "73fcbed6-946e-49d8-bb00-2b0c55288b89",
   "metadata": {
    "ExecuteTime": {
     "end_time": "2023-10-21T06:17:14.261349Z",
     "start_time": "2023-10-21T06:17:12.018290Z"
    }
   },
   "outputs": [],
   "source": [
    "import pandas as pd"
   ]
  },
  {
   "cell_type": "code",
   "execution_count": 2,
   "id": "b3101e2d-61e8-4c41-b885-7f042a3980fe",
   "metadata": {
    "ExecuteTime": {
     "end_time": "2023-10-21T06:17:14.962355Z",
     "start_time": "2023-10-21T06:17:14.263326Z"
    }
   },
   "outputs": [
    {
     "data": {
      "text/html": [
       "<div>\n",
       "<style scoped>\n",
       "    .dataframe tbody tr th:only-of-type {\n",
       "        vertical-align: middle;\n",
       "    }\n",
       "\n",
       "    .dataframe tbody tr th {\n",
       "        vertical-align: top;\n",
       "    }\n",
       "\n",
       "    .dataframe thead th {\n",
       "        text-align: right;\n",
       "    }\n",
       "</style>\n",
       "<table border=\"1\" class=\"dataframe\">\n",
       "  <thead>\n",
       "    <tr style=\"text-align: right;\">\n",
       "      <th></th>\n",
       "      <th>age</th>\n",
       "      <th>income</th>\n",
       "      <th>student</th>\n",
       "      <th>cradit_rating</th>\n",
       "      <th>buy_computer</th>\n",
       "    </tr>\n",
       "  </thead>\n",
       "  <tbody>\n",
       "    <tr>\n",
       "      <th>0</th>\n",
       "      <td>69</td>\n",
       "      <td>7.0</td>\n",
       "      <td>yes</td>\n",
       "      <td>excelent</td>\n",
       "      <td>yes</td>\n",
       "    </tr>\n",
       "    <tr>\n",
       "      <th>1</th>\n",
       "      <td>65</td>\n",
       "      <td>11.0</td>\n",
       "      <td>no</td>\n",
       "      <td>excelent</td>\n",
       "      <td>no</td>\n",
       "    </tr>\n",
       "    <tr>\n",
       "      <th>2</th>\n",
       "      <td>41</td>\n",
       "      <td>5.0</td>\n",
       "      <td>no</td>\n",
       "      <td>excelent</td>\n",
       "      <td>yes</td>\n",
       "    </tr>\n",
       "    <tr>\n",
       "      <th>3</th>\n",
       "      <td>65</td>\n",
       "      <td>5.0</td>\n",
       "      <td>yes</td>\n",
       "      <td>excelent</td>\n",
       "      <td>yes</td>\n",
       "    </tr>\n",
       "    <tr>\n",
       "      <th>4</th>\n",
       "      <td>23</td>\n",
       "      <td>14.0</td>\n",
       "      <td>no</td>\n",
       "      <td>fair</td>\n",
       "      <td>yes</td>\n",
       "    </tr>\n",
       "    <tr>\n",
       "      <th>5</th>\n",
       "      <td>43</td>\n",
       "      <td>6.0</td>\n",
       "      <td>yes</td>\n",
       "      <td>excelent</td>\n",
       "      <td>yes</td>\n",
       "    </tr>\n",
       "    <tr>\n",
       "      <th>6</th>\n",
       "      <td>27</td>\n",
       "      <td>15.0</td>\n",
       "      <td>no</td>\n",
       "      <td>excelent</td>\n",
       "      <td>yes</td>\n",
       "    </tr>\n",
       "    <tr>\n",
       "      <th>7</th>\n",
       "      <td>41</td>\n",
       "      <td>12.0</td>\n",
       "      <td>yes</td>\n",
       "      <td>fair</td>\n",
       "      <td>yes</td>\n",
       "    </tr>\n",
       "    <tr>\n",
       "      <th>8</th>\n",
       "      <td>31</td>\n",
       "      <td>6.0</td>\n",
       "      <td>no</td>\n",
       "      <td>fair</td>\n",
       "      <td>no</td>\n",
       "    </tr>\n",
       "    <tr>\n",
       "      <th>9</th>\n",
       "      <td>33</td>\n",
       "      <td>13.0</td>\n",
       "      <td>yes</td>\n",
       "      <td>excelent</td>\n",
       "      <td>yes</td>\n",
       "    </tr>\n",
       "  </tbody>\n",
       "</table>\n",
       "</div>"
      ],
      "text/plain": [
       "   age  income student cradit_rating buy_computer\n",
       "0   69     7.0     yes      excelent          yes\n",
       "1   65    11.0      no      excelent           no\n",
       "2   41     5.0      no      excelent          yes\n",
       "3   65     5.0     yes      excelent          yes\n",
       "4   23    14.0      no          fair          yes\n",
       "5   43     6.0     yes      excelent          yes\n",
       "6   27    15.0      no      excelent          yes\n",
       "7   41    12.0     yes          fair          yes\n",
       "8   31     6.0      no          fair           no\n",
       "9   33    13.0     yes      excelent          yes"
      ]
     },
     "execution_count": 2,
     "metadata": {},
     "output_type": "execute_result"
    }
   ],
   "source": [
    "dataSetRaw = pd.read_excel('DataSet.xlsx')\n",
    "dataSetRaw.head(10)"
   ]
  },
  {
   "cell_type": "code",
   "execution_count": 3,
   "id": "c50ad00e-276f-4514-aedf-6535fb15a88c",
   "metadata": {
    "ExecuteTime": {
     "end_time": "2023-10-21T06:17:18.442125Z",
     "start_time": "2023-10-21T06:17:18.423179Z"
    }
   },
   "outputs": [
    {
     "name": "stdout",
     "output_type": "stream",
     "text": [
      "<class 'pandas.core.frame.DataFrame'>\n",
      "RangeIndex: 1000 entries, 0 to 999\n",
      "Data columns (total 5 columns):\n",
      " #   Column         Non-Null Count  Dtype  \n",
      "---  ------         --------------  -----  \n",
      " 0   age            1000 non-null   int64  \n",
      " 1   income         994 non-null    float64\n",
      " 2   student        1000 non-null   object \n",
      " 3   cradit_rating  1000 non-null   object \n",
      " 4   buy_computer   1000 non-null   object \n",
      "dtypes: float64(1), int64(1), object(3)\n",
      "memory usage: 39.2+ KB\n"
     ]
    }
   ],
   "source": [
    "# https://towardsdatascience.com/3-ultimate-ways-to-deal-with-missing-values-in-python-ac5a17c53787#:~:text=You%20can%20use%20pandas%20DataFrame,contain%20atleast%20one%20missing%20value.\n",
    "dataSetRaw.info()"
   ]
  },
  {
   "cell_type": "markdown",
   "id": "5a297164-4424-4e8d-aa8b-3b5ed1f1c202",
   "metadata": {},
   "source": [
    "# 1. finding missing value in data set\n",
    "code <code>dataSet.info()</code> will give us a quick view of our data set <br>\n",
    "using \n",
    "<code>dataSet.isnull().sum()</code> will help us to find out how much of our data is missing, which will help us to decide on a method to deal with the missings. using either mean value, dropping, putting zero and other methods are slightly depends on number of missing values. "
   ]
  },
  {
   "cell_type": "code",
   "execution_count": 4,
   "id": "99b7bd24-6585-46a5-a14a-3a7f72e7e4f8",
   "metadata": {
    "ExecuteTime": {
     "end_time": "2023-10-21T06:17:21.222648Z",
     "start_time": "2023-10-21T06:17:21.215153Z"
    }
   },
   "outputs": [
    {
     "data": {
      "text/plain": [
       "age              0\n",
       "income           6\n",
       "student          0\n",
       "cradit_rating    0\n",
       "buy_computer     0\n",
       "dtype: int64"
      ]
     },
     "execution_count": 4,
     "metadata": {},
     "output_type": "execute_result"
    }
   ],
   "source": [
    "dataSetRaw.isnull().sum()"
   ]
  },
  {
   "cell_type": "code",
   "execution_count": 5,
   "id": "f3c940cd-833a-4144-b454-c38841331f3f",
   "metadata": {
    "ExecuteTime": {
     "end_time": "2023-10-21T06:17:24.712919Z",
     "start_time": "2023-10-21T06:17:24.707503Z"
    }
   },
   "outputs": [
    {
     "data": {
      "text/plain": [
       "1000"
      ]
     },
     "execution_count": 5,
     "metadata": {},
     "output_type": "execute_result"
    }
   ],
   "source": [
    "# total number of data \n",
    "len(dataSetRaw)"
   ]
  },
  {
   "cell_type": "markdown",
   "id": "c0897d5e-ad54-4a21-82ec-e6ac8fbc4db8",
   "metadata": {},
   "source": [
    "<b>answer:</b>\n",
    "as we can see, only 6 values among 1000 values are missed. so <b>dropping</b> aproach would not change data in significant. In general, it would be better not to drop nulls and use <b>mean value</b> instead, however in this case, there are some error values to be handled first."
   ]
  },
  {
   "cell_type": "code",
   "execution_count": 6,
   "id": "7300da75-7d3b-4bc5-a842-e4979de59e63",
   "metadata": {
    "ExecuteTime": {
     "end_time": "2023-10-21T06:17:26.591539Z",
     "start_time": "2023-10-21T06:17:26.580040Z"
    }
   },
   "outputs": [
    {
     "data": {
      "text/plain": [
       "age              0\n",
       "income           0\n",
       "student          0\n",
       "cradit_rating    0\n",
       "buy_computer     0\n",
       "dtype: int64"
      ]
     },
     "execution_count": 6,
     "metadata": {},
     "output_type": "execute_result"
    }
   ],
   "source": [
    "dataSet_dropped = dataSetRaw.dropna(axis = 0, how ='any')\n",
    "dataSet_dropped.isnull().sum()"
   ]
  },
  {
   "cell_type": "code",
   "execution_count": 7,
   "id": "7b947faf-e9d5-4abe-bd79-c8c6268f594b",
   "metadata": {
    "ExecuteTime": {
     "end_time": "2023-10-21T06:17:28.050961Z",
     "start_time": "2023-10-21T06:17:28.036011Z"
    }
   },
   "outputs": [
    {
     "name": "stdout",
     "output_type": "stream",
     "text": [
      "<class 'pandas.core.frame.DataFrame'>\n",
      "Int64Index: 994 entries, 0 to 999\n",
      "Data columns (total 5 columns):\n",
      " #   Column         Non-Null Count  Dtype  \n",
      "---  ------         --------------  -----  \n",
      " 0   age            994 non-null    int64  \n",
      " 1   income         994 non-null    float64\n",
      " 2   student        994 non-null    object \n",
      " 3   cradit_rating  994 non-null    object \n",
      " 4   buy_computer   994 non-null    object \n",
      "dtypes: float64(1), int64(1), object(3)\n",
      "memory usage: 46.6+ KB\n"
     ]
    }
   ],
   "source": [
    "dataSet_dropped.info()"
   ]
  },
  {
   "cell_type": "code",
   "execution_count": 8,
   "id": "e7c2a15b-7b47-47ee-8a60-316916e0d55e",
   "metadata": {},
   "outputs": [
    {
     "data": {
      "text/html": [
       "<div>\n",
       "<style scoped>\n",
       "    .dataframe tbody tr th:only-of-type {\n",
       "        vertical-align: middle;\n",
       "    }\n",
       "\n",
       "    .dataframe tbody tr th {\n",
       "        vertical-align: top;\n",
       "    }\n",
       "\n",
       "    .dataframe thead th {\n",
       "        text-align: right;\n",
       "    }\n",
       "</style>\n",
       "<table border=\"1\" class=\"dataframe\">\n",
       "  <thead>\n",
       "    <tr style=\"text-align: right;\">\n",
       "      <th></th>\n",
       "      <th>age</th>\n",
       "      <th>income</th>\n",
       "      <th>student</th>\n",
       "      <th>cradit_rating</th>\n",
       "      <th>buy_computer</th>\n",
       "    </tr>\n",
       "  </thead>\n",
       "  <tbody>\n",
       "    <tr>\n",
       "      <th>10</th>\n",
       "      <td>33</td>\n",
       "      <td>NaN</td>\n",
       "      <td>yes</td>\n",
       "      <td>fair</td>\n",
       "      <td>yes</td>\n",
       "    </tr>\n",
       "    <tr>\n",
       "      <th>108</th>\n",
       "      <td>50</td>\n",
       "      <td>NaN</td>\n",
       "      <td>no</td>\n",
       "      <td>fair</td>\n",
       "      <td>yes</td>\n",
       "    </tr>\n",
       "    <tr>\n",
       "      <th>226</th>\n",
       "      <td>33</td>\n",
       "      <td>NaN</td>\n",
       "      <td>no</td>\n",
       "      <td>excelent</td>\n",
       "      <td>no</td>\n",
       "    </tr>\n",
       "    <tr>\n",
       "      <th>443</th>\n",
       "      <td>53</td>\n",
       "      <td>NaN</td>\n",
       "      <td>yes</td>\n",
       "      <td>excelent</td>\n",
       "      <td>yes</td>\n",
       "    </tr>\n",
       "    <tr>\n",
       "      <th>786</th>\n",
       "      <td>44</td>\n",
       "      <td>NaN</td>\n",
       "      <td>yes</td>\n",
       "      <td>fair</td>\n",
       "      <td>yes</td>\n",
       "    </tr>\n",
       "    <tr>\n",
       "      <th>988</th>\n",
       "      <td>61</td>\n",
       "      <td>NaN</td>\n",
       "      <td>yes</td>\n",
       "      <td>fair</td>\n",
       "      <td>yes</td>\n",
       "    </tr>\n",
       "  </tbody>\n",
       "</table>\n",
       "</div>"
      ],
      "text/plain": [
       "     age  income student cradit_rating buy_computer\n",
       "10    33     NaN     yes          fair          yes\n",
       "108   50     NaN      no          fair          yes\n",
       "226   33     NaN      no      excelent           no\n",
       "443   53     NaN     yes      excelent          yes\n",
       "786   44     NaN     yes          fair          yes\n",
       "988   61     NaN     yes          fair          yes"
      ]
     },
     "execution_count": 8,
     "metadata": {},
     "output_type": "execute_result"
    }
   ],
   "source": [
    "nullIndices = dataSetRaw[dataSetRaw.iloc[:,1].isnull()].index\n",
    "dataSetRaw.iloc[nullIndices]"
   ]
  },
  {
   "cell_type": "code",
   "execution_count": 9,
   "id": "7045cb17-5496-486a-b223-69d2c0f8fadc",
   "metadata": {},
   "outputs": [
    {
     "data": {
      "text/plain": [
       "9.922535211267606"
      ]
     },
     "execution_count": 9,
     "metadata": {},
     "output_type": "execute_result"
    }
   ],
   "source": [
    "incomeMean = dataSetRaw[\"income\"].mean()\n",
    "incomeMean"
   ]
  },
  {
   "cell_type": "markdown",
   "id": "81a33ffc-1bf2-4e4a-ba0b-59c22fc5b2cf",
   "metadata": {},
   "source": [
    "In code above I count mean values while there is some error values in the data set which can make a slight difference in result. In part 2 I will have mean value after I manage error values (negative incomes)."
   ]
  },
  {
   "cell_type": "code",
   "execution_count": 10,
   "id": "1054b863-89b1-42ac-a14b-8eaf7edd9456",
   "metadata": {},
   "outputs": [
    {
     "data": {
      "text/html": [
       "<div>\n",
       "<style scoped>\n",
       "    .dataframe tbody tr th:only-of-type {\n",
       "        vertical-align: middle;\n",
       "    }\n",
       "\n",
       "    .dataframe tbody tr th {\n",
       "        vertical-align: top;\n",
       "    }\n",
       "\n",
       "    .dataframe thead th {\n",
       "        text-align: right;\n",
       "    }\n",
       "</style>\n",
       "<table border=\"1\" class=\"dataframe\">\n",
       "  <thead>\n",
       "    <tr style=\"text-align: right;\">\n",
       "      <th></th>\n",
       "      <th>age</th>\n",
       "      <th>income</th>\n",
       "      <th>student</th>\n",
       "      <th>cradit_rating</th>\n",
       "      <th>buy_computer</th>\n",
       "    </tr>\n",
       "  </thead>\n",
       "  <tbody>\n",
       "    <tr>\n",
       "      <th>10</th>\n",
       "      <td>33</td>\n",
       "      <td>9.922535</td>\n",
       "      <td>yes</td>\n",
       "      <td>fair</td>\n",
       "      <td>yes</td>\n",
       "    </tr>\n",
       "    <tr>\n",
       "      <th>108</th>\n",
       "      <td>50</td>\n",
       "      <td>9.922535</td>\n",
       "      <td>no</td>\n",
       "      <td>fair</td>\n",
       "      <td>yes</td>\n",
       "    </tr>\n",
       "    <tr>\n",
       "      <th>226</th>\n",
       "      <td>33</td>\n",
       "      <td>9.922535</td>\n",
       "      <td>no</td>\n",
       "      <td>excelent</td>\n",
       "      <td>no</td>\n",
       "    </tr>\n",
       "    <tr>\n",
       "      <th>443</th>\n",
       "      <td>53</td>\n",
       "      <td>9.922535</td>\n",
       "      <td>yes</td>\n",
       "      <td>excelent</td>\n",
       "      <td>yes</td>\n",
       "    </tr>\n",
       "    <tr>\n",
       "      <th>786</th>\n",
       "      <td>44</td>\n",
       "      <td>9.922535</td>\n",
       "      <td>yes</td>\n",
       "      <td>fair</td>\n",
       "      <td>yes</td>\n",
       "    </tr>\n",
       "    <tr>\n",
       "      <th>988</th>\n",
       "      <td>61</td>\n",
       "      <td>9.922535</td>\n",
       "      <td>yes</td>\n",
       "      <td>fair</td>\n",
       "      <td>yes</td>\n",
       "    </tr>\n",
       "  </tbody>\n",
       "</table>\n",
       "</div>"
      ],
      "text/plain": [
       "     age    income student cradit_rating buy_computer\n",
       "10    33  9.922535     yes          fair          yes\n",
       "108   50  9.922535      no          fair          yes\n",
       "226   33  9.922535      no      excelent           no\n",
       "443   53  9.922535     yes      excelent          yes\n",
       "786   44  9.922535     yes          fair          yes\n",
       "988   61  9.922535     yes          fair          yes"
      ]
     },
     "execution_count": 10,
     "metadata": {},
     "output_type": "execute_result"
    }
   ],
   "source": [
    "dataSetFillMean = dataSetRaw\n",
    "dataSetFillMean.iloc[nullIndices, 1] = incomeMean\n",
    "dataSetFillMean.iloc[nullIndices]"
   ]
  },
  {
   "cell_type": "markdown",
   "id": "5045f7a4-6a77-41e8-8692-0ae131e237e6",
   "metadata": {},
   "source": [
    "# 2- finding values with error in income column"
   ]
  },
  {
   "cell_type": "code",
   "execution_count": 11,
   "id": "43a09dd6-25db-46f6-bb33-59f266c921d0",
   "metadata": {
    "ExecuteTime": {
     "end_time": "2023-10-21T06:17:32.262569Z",
     "start_time": "2023-10-21T06:17:32.251275Z"
    },
    "tags": []
   },
   "outputs": [
    {
     "data": {
      "text/html": [
       "<div>\n",
       "<style scoped>\n",
       "    .dataframe tbody tr th:only-of-type {\n",
       "        vertical-align: middle;\n",
       "    }\n",
       "\n",
       "    .dataframe tbody tr th {\n",
       "        vertical-align: top;\n",
       "    }\n",
       "\n",
       "    .dataframe thead th {\n",
       "        text-align: right;\n",
       "    }\n",
       "</style>\n",
       "<table border=\"1\" class=\"dataframe\">\n",
       "  <thead>\n",
       "    <tr style=\"text-align: right;\">\n",
       "      <th></th>\n",
       "      <th>age</th>\n",
       "      <th>income</th>\n",
       "      <th>student</th>\n",
       "      <th>cradit_rating</th>\n",
       "      <th>buy_computer</th>\n",
       "    </tr>\n",
       "  </thead>\n",
       "  <tbody>\n",
       "    <tr>\n",
       "      <th>20</th>\n",
       "      <td>40</td>\n",
       "      <td>-13.0</td>\n",
       "      <td>no</td>\n",
       "      <td>excelent</td>\n",
       "      <td>no</td>\n",
       "    </tr>\n",
       "    <tr>\n",
       "      <th>820</th>\n",
       "      <td>43</td>\n",
       "      <td>-15.0</td>\n",
       "      <td>no</td>\n",
       "      <td>fair</td>\n",
       "      <td>no</td>\n",
       "    </tr>\n",
       "  </tbody>\n",
       "</table>\n",
       "</div>"
      ],
      "text/plain": [
       "     age  income student cradit_rating buy_computer\n",
       "20    40   -13.0      no      excelent           no\n",
       "820   43   -15.0      no          fair           no"
      ]
     },
     "execution_count": 11,
     "metadata": {},
     "output_type": "execute_result"
    }
   ],
   "source": [
    "# using this query on dataframe will help to find odds.\n",
    "dataSetRaw[dataSetRaw['income'] <= 0]"
   ]
  },
  {
   "cell_type": "markdown",
   "id": "cb5f4088",
   "metadata": {},
   "source": [
    "<i>You can replace all values or selected values in a column of pandas DataFrame based on condition by using <code>DataFrame.loc[]</code>, <code>np.where()</code> and <code>DataFrame.mask()</code> methods.<l> [sparksby{examples}](https://sparkbyexamples.com/pandas/pandas-replace-values-based-on-condition/#:~:text=You%20can%20replace%20values%20of,the%20values%20of%20pandas%20DataFrame.)\n"
   ]
  },
  {
   "cell_type": "code",
   "execution_count": 12,
   "id": "a4a1c29c-bafc-4972-9358-121009cd2f8a",
   "metadata": {
    "ExecuteTime": {
     "end_time": "2023-10-21T06:17:35.370173Z",
     "start_time": "2023-10-21T06:17:35.363192Z"
    }
   },
   "outputs": [],
   "source": [
    "# to find incomes mean value of income column while error values are not been counted\n",
    "incomeMean = dataSetRaw[dataSetRaw['income'] >= 0].mean(axis=0, numeric_only=True)[1]"
   ]
  },
  {
   "cell_type": "code",
   "execution_count": 13,
   "id": "753b2c7d",
   "metadata": {
    "ExecuteTime": {
     "end_time": "2023-10-21T06:24:53.672702Z",
     "start_time": "2023-10-21T06:24:53.667720Z"
    }
   },
   "outputs": [],
   "source": [
    "dataSet = dataSetRaw\n",
    "dataSet.iloc[nullIndices, 1] = incomeMean\n",
    "dataSet.loc[dataSet['income'] <= 0, 'income'] = incomeMean"
   ]
  },
  {
   "cell_type": "code",
   "execution_count": 14,
   "id": "60cda123-78fc-4f27-a8a9-2d386c8460be",
   "metadata": {},
   "outputs": [
    {
     "name": "stdout",
     "output_type": "stream",
     "text": [
      "<class 'pandas.core.frame.DataFrame'>\n",
      "RangeIndex: 1000 entries, 0 to 999\n",
      "Data columns (total 5 columns):\n",
      " #   Column         Non-Null Count  Dtype  \n",
      "---  ------         --------------  -----  \n",
      " 0   age            1000 non-null   int64  \n",
      " 1   income         1000 non-null   float64\n",
      " 2   student        1000 non-null   object \n",
      " 3   cradit_rating  1000 non-null   object \n",
      " 4   buy_computer   1000 non-null   object \n",
      "dtypes: float64(1), int64(1), object(3)\n",
      "memory usage: 39.2+ KB\n"
     ]
    }
   ],
   "source": [
    "dataSet.info()"
   ]
  },
  {
   "cell_type": "markdown",
   "id": "846c4c3e",
   "metadata": {},
   "source": [
    "<b>answer:</b>\n",
    "as we had two errors in incomes, I replace them by means of all valid incomes. In cells above, you can see values before and after I applied to find and correct errors."
   ]
  },
  {
   "cell_type": "markdown",
   "id": "4bbde5a3",
   "metadata": {},
   "source": [
    "# 3. finding similarity between customers"
   ]
  },
  {
   "cell_type": "markdown",
   "id": "09f0d374-2de9-413d-834c-81f6f7170a0c",
   "metadata": {},
   "source": [
    "<b>answer:</b> <br> <h3>Dissimilarity for attributes of mixed types</h3>\n",
    "Han, Data Mining, Concepts and Techniques, Fourth Edition <br><br>\n",
    "$$\n",
    " d_{(i, j)} = \\frac{\\sum\\limits_{f=1}^{p}{\\delta}_{ij}^{(f)}d_{ij}^{(f)}}{\\sum\\limits_{f=1}^{p}{\\delta}_{ij}^{(f)}}\\, \n",
    "$$\n",
    "where the indicator ${\\delta}_{ij}^{(f)} = 0$ if either (1) $x_{if}$ or $x_{jf}$ is missing (i.e., there is no measurement of attribute\n",
    "$f$ for object $i$ or object $j$ ), or (2) $x_{if} = x_{jf} = 0$ and attribute $f$ is asymmetric binary; otherwise, ${\\delta}_{ij}^{(f)} = 1$"
   ]
  },
  {
   "cell_type": "markdown",
   "id": "97150136-7810-40f1-a4fc-7f4a9048ade3",
   "metadata": {},
   "source": [
    "As far as we have age (nymberic type), income (numeric type), student (asymmetric binary), credit_rate (ordinal), and buy_computer (asymmetric binary) attributes we have to use (1 - dissimilarity) to get similarity between to customers"
   ]
  },
  {
   "cell_type": "markdown",
   "id": "7b039569-6bb3-4107-8384-4e87c61b43c0",
   "metadata": {},
   "source": [
    "# 4. similarity function implementation"
   ]
  },
  {
   "cell_type": "markdown",
   "id": "fb99a2c1-156d-4dc1-aba7-af40cc16d1f6",
   "metadata": {},
   "source": [
    "First lets have a copy of the preprocessed data set (nulls and errors removed). Then I will use my own normalization functions on this copy to make the ready for numeric dissimilarity function and at last for the mixed types dissimilarity functions. "
   ]
  },
  {
   "cell_type": "code",
   "execution_count": 15,
   "id": "ca5be8b3-f610-4971-b4e0-fb1e251274fd",
   "metadata": {
    "ExecuteTime": {
     "end_time": "2023-10-21T09:51:45.337532Z",
     "start_time": "2023-10-21T09:51:45.326084Z"
    }
   },
   "outputs": [
    {
     "data": {
      "text/html": [
       "<div>\n",
       "<style scoped>\n",
       "    .dataframe tbody tr th:only-of-type {\n",
       "        vertical-align: middle;\n",
       "    }\n",
       "\n",
       "    .dataframe tbody tr th {\n",
       "        vertical-align: top;\n",
       "    }\n",
       "\n",
       "    .dataframe thead th {\n",
       "        text-align: right;\n",
       "    }\n",
       "</style>\n",
       "<table border=\"1\" class=\"dataframe\">\n",
       "  <thead>\n",
       "    <tr style=\"text-align: right;\">\n",
       "      <th></th>\n",
       "      <th>age</th>\n",
       "      <th>income</th>\n",
       "      <th>student</th>\n",
       "      <th>cradit_rating</th>\n",
       "      <th>buy_computer</th>\n",
       "    </tr>\n",
       "  </thead>\n",
       "  <tbody>\n",
       "    <tr>\n",
       "      <th>0</th>\n",
       "      <td>69</td>\n",
       "      <td>7.0</td>\n",
       "      <td>yes</td>\n",
       "      <td>excelent</td>\n",
       "      <td>yes</td>\n",
       "    </tr>\n",
       "    <tr>\n",
       "      <th>1</th>\n",
       "      <td>65</td>\n",
       "      <td>11.0</td>\n",
       "      <td>no</td>\n",
       "      <td>excelent</td>\n",
       "      <td>no</td>\n",
       "    </tr>\n",
       "    <tr>\n",
       "      <th>2</th>\n",
       "      <td>41</td>\n",
       "      <td>5.0</td>\n",
       "      <td>no</td>\n",
       "      <td>excelent</td>\n",
       "      <td>yes</td>\n",
       "    </tr>\n",
       "    <tr>\n",
       "      <th>3</th>\n",
       "      <td>65</td>\n",
       "      <td>5.0</td>\n",
       "      <td>yes</td>\n",
       "      <td>excelent</td>\n",
       "      <td>yes</td>\n",
       "    </tr>\n",
       "    <tr>\n",
       "      <th>4</th>\n",
       "      <td>23</td>\n",
       "      <td>14.0</td>\n",
       "      <td>no</td>\n",
       "      <td>fair</td>\n",
       "      <td>yes</td>\n",
       "    </tr>\n",
       "  </tbody>\n",
       "</table>\n",
       "</div>"
      ],
      "text/plain": [
       "   age  income student cradit_rating buy_computer\n",
       "0   69     7.0     yes      excelent          yes\n",
       "1   65    11.0      no      excelent           no\n",
       "2   41     5.0      no      excelent          yes\n",
       "3   65     5.0     yes      excelent          yes\n",
       "4   23    14.0      no          fair          yes"
      ]
     },
     "execution_count": 15,
     "metadata": {},
     "output_type": "execute_result"
    }
   ],
   "source": [
    "dfCopy = dataSet\n",
    "dfCopy.head(5)"
   ]
  },
  {
   "cell_type": "markdown",
   "id": "9b9f947e-a98c-4373-b6ef-b839bbd2bd77",
   "metadata": {},
   "source": [
    "non-numeric columns have been derived from domains below. these domains will help in mapping these values to a proper one."
   ]
  },
  {
   "cell_type": "code",
   "execution_count": 16,
   "id": "1af28188-7b47-4c9f-8bd4-e9a824d8a000",
   "metadata": {
    "ExecuteTime": {
     "end_time": "2023-10-21T09:53:00.758269Z",
     "start_time": "2023-10-21T09:53:00.753277Z"
    }
   },
   "outputs": [
    {
     "data": {
      "text/plain": [
       "(array(['yes', 'no'], dtype=object),\n",
       " array(['excelent', 'fair'], dtype=object),\n",
       " array(['yes', 'no'], dtype=object))"
      ]
     },
     "execution_count": 16,
     "metadata": {},
     "output_type": "execute_result"
    }
   ],
   "source": [
    "# in this state, I find the domain of each columns\n",
    "studentAtr = dfCopy['student'].unique()\n",
    "cradit_ratingAtr = dfCopy['cradit_rating'].unique()\n",
    "buy_computerAtr = dfCopy['buy_computer'].unique()\n",
    "studentAtr, cradit_ratingAtr, buy_computerAtr"
   ]
  },
  {
   "cell_type": "markdown",
   "id": "de215c2e-3583-45c0-b4ca-4396b71a8b82",
   "metadata": {},
   "source": [
    "using a dictionary to map "
   ]
  },
  {
   "cell_type": "code",
   "execution_count": 17,
   "id": "98f0df1e-4589-4218-b64d-3dd1138da7d0",
   "metadata": {},
   "outputs": [
    {
     "data": {
      "text/html": [
       "<div>\n",
       "<style scoped>\n",
       "    .dataframe tbody tr th:only-of-type {\n",
       "        vertical-align: middle;\n",
       "    }\n",
       "\n",
       "    .dataframe tbody tr th {\n",
       "        vertical-align: top;\n",
       "    }\n",
       "\n",
       "    .dataframe thead th {\n",
       "        text-align: right;\n",
       "    }\n",
       "</style>\n",
       "<table border=\"1\" class=\"dataframe\">\n",
       "  <thead>\n",
       "    <tr style=\"text-align: right;\">\n",
       "      <th></th>\n",
       "      <th>age</th>\n",
       "      <th>income</th>\n",
       "      <th>student</th>\n",
       "      <th>cradit_rating</th>\n",
       "      <th>buy_computer</th>\n",
       "    </tr>\n",
       "  </thead>\n",
       "  <tbody>\n",
       "    <tr>\n",
       "      <th>0</th>\n",
       "      <td>69</td>\n",
       "      <td>7.0</td>\n",
       "      <td>True</td>\n",
       "      <td>True</td>\n",
       "      <td>True</td>\n",
       "    </tr>\n",
       "    <tr>\n",
       "      <th>1</th>\n",
       "      <td>65</td>\n",
       "      <td>11.0</td>\n",
       "      <td>False</td>\n",
       "      <td>True</td>\n",
       "      <td>False</td>\n",
       "    </tr>\n",
       "    <tr>\n",
       "      <th>2</th>\n",
       "      <td>41</td>\n",
       "      <td>5.0</td>\n",
       "      <td>False</td>\n",
       "      <td>True</td>\n",
       "      <td>True</td>\n",
       "    </tr>\n",
       "    <tr>\n",
       "      <th>3</th>\n",
       "      <td>65</td>\n",
       "      <td>5.0</td>\n",
       "      <td>True</td>\n",
       "      <td>True</td>\n",
       "      <td>True</td>\n",
       "    </tr>\n",
       "    <tr>\n",
       "      <th>4</th>\n",
       "      <td>23</td>\n",
       "      <td>14.0</td>\n",
       "      <td>False</td>\n",
       "      <td>False</td>\n",
       "      <td>True</td>\n",
       "    </tr>\n",
       "  </tbody>\n",
       "</table>\n",
       "</div>"
      ],
      "text/plain": [
       "   age  income  student  cradit_rating  buy_computer\n",
       "0   69     7.0     True           True          True\n",
       "1   65    11.0    False           True         False\n",
       "2   41     5.0    False           True          True\n",
       "3   65     5.0     True           True          True\n",
       "4   23    14.0    False          False          True"
      ]
     },
     "execution_count": 17,
     "metadata": {},
     "output_type": "execute_result"
    }
   ],
   "source": [
    "# in order to run Dissimilarity or similarity functions I have to normalize the values\\\n",
    "# as suitable inputs to the algorithms - by using map method and creating dictionaries of reletive values.\n",
    "student = {'yes': True, 'no': False}\n",
    "credit_rate = {'excelent': True, 'fair': False}\n",
    "buy_computer = {'yes': True, 'no': False}\n",
    "dfCopy['student'] = dfCopy['student'].map(student)\n",
    "dfCopy['cradit_rating'] = dfCopy['cradit_rating'].map(credit_rate)\n",
    "dfCopy['buy_computer'] = dfCopy['buy_computer'].map(buy_computer)\n",
    "dfCopy.head(5)"
   ]
  },
  {
   "cell_type": "code",
   "execution_count": 18,
   "id": "020e947c-22f8-40e8-a4cb-1247d9d89d4d",
   "metadata": {},
   "outputs": [],
   "source": [
    "def zScore(x=0, mean=0, std=1):\n",
    "    return (x - mean) / std\n",
    "\n",
    "def minMax(x=0, minVal=0, maxVal=1):\n",
    "    return (x - minVal) / (maxVal - minVal)\n",
    "\n",
    "# def createMatrix(size=(2, 2)):\n",
    "#     from numpy import zeros\n",
    "#     return zeros(shape=size, dtype=int)"
   ]
  },
  {
   "cell_type": "markdown",
   "id": "417973eb-2e93-4a98-a37b-35261595171a",
   "metadata": {},
   "source": [
    "By using functions above, numeric types (columns age and income) will be updated"
   ]
  },
  {
   "cell_type": "code",
   "execution_count": 19,
   "id": "d19d88ab-d275-4bab-ad84-75896781330c",
   "metadata": {},
   "outputs": [
    {
     "data": {
      "text/html": [
       "<div>\n",
       "<style scoped>\n",
       "    .dataframe tbody tr th:only-of-type {\n",
       "        vertical-align: middle;\n",
       "    }\n",
       "\n",
       "    .dataframe tbody tr th {\n",
       "        vertical-align: top;\n",
       "    }\n",
       "\n",
       "    .dataframe thead th {\n",
       "        text-align: right;\n",
       "    }\n",
       "</style>\n",
       "<table border=\"1\" class=\"dataframe\">\n",
       "  <thead>\n",
       "    <tr style=\"text-align: right;\">\n",
       "      <th></th>\n",
       "      <th>age</th>\n",
       "      <th>income</th>\n",
       "      <th>student</th>\n",
       "      <th>cradit_rating</th>\n",
       "      <th>buy_computer</th>\n",
       "    </tr>\n",
       "  </thead>\n",
       "  <tbody>\n",
       "    <tr>\n",
       "      <th>0</th>\n",
       "      <td>1.637402</td>\n",
       "      <td>-0.942644</td>\n",
       "      <td>True</td>\n",
       "      <td>True</td>\n",
       "      <td>True</td>\n",
       "    </tr>\n",
       "    <tr>\n",
       "      <th>1</th>\n",
       "      <td>1.358553</td>\n",
       "      <td>0.326584</td>\n",
       "      <td>False</td>\n",
       "      <td>True</td>\n",
       "      <td>False</td>\n",
       "    </tr>\n",
       "    <tr>\n",
       "      <th>2</th>\n",
       "      <td>-0.314542</td>\n",
       "      <td>-1.577259</td>\n",
       "      <td>False</td>\n",
       "      <td>True</td>\n",
       "      <td>True</td>\n",
       "    </tr>\n",
       "    <tr>\n",
       "      <th>3</th>\n",
       "      <td>1.358553</td>\n",
       "      <td>-1.577259</td>\n",
       "      <td>True</td>\n",
       "      <td>True</td>\n",
       "      <td>True</td>\n",
       "    </tr>\n",
       "    <tr>\n",
       "      <th>4</th>\n",
       "      <td>-1.569363</td>\n",
       "      <td>1.278505</td>\n",
       "      <td>False</td>\n",
       "      <td>False</td>\n",
       "      <td>True</td>\n",
       "    </tr>\n",
       "  </tbody>\n",
       "</table>\n",
       "</div>"
      ],
      "text/plain": [
       "        age    income  student  cradit_rating  buy_computer\n",
       "0  1.637402 -0.942644     True           True          True\n",
       "1  1.358553  0.326584    False           True         False\n",
       "2 -0.314542 -1.577259    False           True          True\n",
       "3  1.358553 -1.577259     True           True          True\n",
       "4 -1.569363  1.278505    False          False          True"
      ]
     },
     "execution_count": 19,
     "metadata": {},
     "output_type": "execute_result"
    }
   ],
   "source": [
    "dataSetMean = dfCopy.mean(numeric_only=True)\n",
    "dataSetStd = dfCopy.std(numeric_only=True)\n",
    "minVal = dfCopy.min(numeric_only=True)\n",
    "maxVal = dfCopy.max(numeric_only=True)\n",
    "\n",
    "incomeMean = dataSetMean[1]\n",
    "incomeStd = dataSetStd[1]\n",
    "\n",
    "ageMean = dataSetMean[0]\n",
    "ageStd = dataSetStd[0]\n",
    "\n",
    "income = []\n",
    "age = []\n",
    "\n",
    "for index, item in enumerate(dfCopy['income']):\n",
    "    income.append(zScore(x=item, mean=incomeMean, std= incomeStd))\n",
    "    \n",
    "for index, item in enumerate(dfCopy['age']):\n",
    "    age.append(zScore(x=item, mean=ageMean, std= ageStd))\n",
    "dfCopy['income'] = income\n",
    "dfCopy['age'] = age\n",
    "dfCopy.head(5)"
   ]
  },
  {
   "cell_type": "markdown",
   "id": "54c03bb0-f0ed-41b2-8923-79d8398883c7",
   "metadata": {},
   "source": [
    "in ordet to measure similarity between 2 customer, involving buy_computer column to the formula is wrong. because obviously our goal is to predict whether a new customer buy a computer or not. a simple way is to seprate X, and y at first. but What I did is just to leave last column. "
   ]
  },
  {
   "cell_type": "code",
   "execution_count": 20,
   "id": "8fd22bc0-6721-47d9-9bad-936d14594acd",
   "metadata": {},
   "outputs": [],
   "source": [
    "X = dfCopy.iloc[:,:-1]\n",
    "y = dfCopy.iloc[:,-1]"
   ]
  },
  {
   "cell_type": "markdown",
   "id": "e49711af-137b-4914-9b97-2bd34fea54a1",
   "metadata": {},
   "source": [
    "functions below will be used in order to calculate dissimilarity in asymmetric binary types and numeric types.\n",
    "as the question 4 specified the input parameters and the output parameter, there are 6 input parameters in <code> binaryDissimilarity(student1=False, student2=False, credit1=False, credit2=False):</code><br>\n",
    "In <code>numericDissimilarity(i=[], j=[], euclideanDistance=True):</code> function to the contrary, the inputs are a list of attributes.<br>\n",
    "<code>mixedTypesDissimilarity(i=[], j=[])</code> function takes copied dataframe's 2 records as inputs and give a dissimilarity figure as an output. As we know (1 - dissimilarity) is equal to similarity."
   ]
  },
  {
   "cell_type": "code",
   "execution_count": 21,
   "id": "63c86d64-b475-45cb-83f7-14d19ed00eae",
   "metadata": {},
   "outputs": [],
   "source": [
    "# def binaryDissimilarity(student1=False, student2=False, credit1=False, \n",
    "#                         credit2=False, buy1=False, buy2=False):\n",
    "#     from numpy import array\n",
    "#     dataMatrix = array(([student1, credit1, buy1],\n",
    "#                         [student2, credit2, buy2]))\n",
    "def binaryDissimilarity(student1=False, student2=False, credit1=False, \n",
    "                        credit2=False):\n",
    "    from numpy import array\n",
    "    dataMatrix = array(([student1, credit1],\n",
    "                        [student2, credit2]))\n",
    "    m_01 = 0\n",
    "    m_10 = 0\n",
    "    m_11 = 0\n",
    "    M_00 = 0\n",
    "    for i in range(dataMatrix.shape[1]):\n",
    "        if dataMatrix[:,i][0] == True and dataMatrix[:,i][1] == True:\n",
    "            m_11 += 1\n",
    "        elif dataMatrix[:,i][0] == False and dataMatrix[:,i][1] == True:\n",
    "            m_01 += 1\n",
    "        elif dataMatrix[:,i][0] == True and dataMatrix[:,i][1] == False:\n",
    "            m_10 += 1\n",
    "        elif dataMatrix[:,i][0] == False and dataMatrix[:,i][1] == False:\n",
    "            M_00 += 1\n",
    "    return (m_01 + m_10) / (m_01 + m_10 + m_11)\n",
    "\n",
    "def numericDissimilarity(i=[], j=[], euclideanDistance=True):\n",
    "    if len(i) == 0 and len(j) == 0:\n",
    "        return\n",
    "    if euclideanDistance:\n",
    "        from math import sqrt\n",
    "        from numpy import array\n",
    "        dataMatrix = array((i, j))\n",
    "        result = 0\n",
    "        for i in range(dataMatrix.shape[1]):\n",
    "            result += (dataMatrix[:,i][0] - dataMatrix[:,i][1]) ** 2\n",
    "        return sqrt(result)\n",
    "\n",
    "def mixedTypesDissimilarity(i=[], j=[]):  \n",
    "    if len(i) == 0 and len(j) == 0:\n",
    "        return\n",
    "    binary = []\n",
    "    numberic = []    \n",
    "    \n",
    "    for col in range(len(i)):\n",
    "        if type(i[col]) == bool and type(j[col]) == bool:\n",
    "            binary.append((i[col], j[col]))\n",
    "        else:\n",
    "            numberic.append((i[col], j[col]))\n",
    "            \n",
    "    resultSum = binaryDissimilarity(student1=binary[0][0], student2=binary[0][1],\n",
    "                       credit1=binary[1][0], credit2=binary[1][1])\n",
    "    from numpy import column_stack\n",
    "    i = column_stack(numberic)[0]\n",
    "    j = column_stack(numberic)[1]\n",
    "    resultSum += numericDissimilarity(i=i, j=j)\n",
    "    return resultSum / (len(binary) + len(numberic))\n",
    "\n",
    "def similarity(dissimilarity):\n",
    "    return 1 - dissimilarity"
   ]
  },
  {
   "cell_type": "code",
   "execution_count": 22,
   "id": "270aa90d-ca2e-477e-92fb-dd803b820900",
   "metadata": {},
   "outputs": [],
   "source": [
    "i = [1.637402, -0.942644, True, True]\n",
    "j = [1.358553, 0.326584, False, True]\n",
    "d = mixedTypesDissimilarity(i=i, j =j)"
   ]
  },
  {
   "cell_type": "code",
   "execution_count": 23,
   "id": "76e79844-4bec-4cdf-b723-107c048f05de",
   "metadata": {},
   "outputs": [
    {
     "data": {
      "text/plain": [
       "0.5501253625641692"
      ]
     },
     "execution_count": 23,
     "metadata": {},
     "output_type": "execute_result"
    }
   ],
   "source": [
    "similarity(d)"
   ]
  },
  {
   "cell_type": "markdown",
   "id": "af6c9216-d76e-405a-8e3f-b5516a4ebb25",
   "metadata": {},
   "source": [
    "# 5. buying computer prediction (k=1)"
   ]
  },
  {
   "cell_type": "markdown",
   "id": "2b28b959-8c03-4cd8-bd48-af7d79dc8002",
   "metadata": {},
   "source": [
    "Function below gets dataframe X and a new record to predict if a new customer will buy a coumputer or not"
   ]
  },
  {
   "cell_type": "code",
   "execution_count": 24,
   "id": "0fe1328d-7492-4426-ae28-490ce1a62fa9",
   "metadata": {},
   "outputs": [
    {
     "data": {
      "text/plain": [
       "[192, 0.9507028855479938]"
      ]
     },
     "execution_count": 24,
     "metadata": {},
     "output_type": "execute_result"
    }
   ],
   "source": [
    "def mostSimilarty(df, new):\n",
    "    mostSimilar = [0, 0]\n",
    "    # mostSimilar[0][0]\n",
    "    for index, row in enumerate(df.values):\n",
    "        d = mixedTypesDissimilarity(i=new, j=row)\n",
    "        if mostSimilar[1] < similarity(dissimilarity=d):\n",
    "            mostSimilar[1] = similarity(dissimilarity=d)\n",
    "            mostSimilar[0] = index\n",
    "    return mostSimilar\n",
    "new = [1.9, -0.3490, False, True]\n",
    "mostSimilar = mostSimilarty(df=dfCopy, new=new)\n",
    "mostSimilar"
   ]
  },
  {
   "cell_type": "code",
   "execution_count": 25,
   "id": "752ecdfe-ba1d-49ad-903e-78ca6e3794e1",
   "metadata": {},
   "outputs": [
    {
     "data": {
      "text/plain": [
       "age              1.707115\n",
       "income           -0.30803\n",
       "student             False\n",
       "cradit_rating        True\n",
       "buy_computer        False\n",
       "Name: 192, dtype: object"
      ]
     },
     "execution_count": 25,
     "metadata": {},
     "output_type": "execute_result"
    }
   ],
   "source": [
    "def getRecord(mostSimilar):\n",
    "    record = dfCopy.iloc[mostSimilar[0]]\n",
    "    return record\n",
    "record = getRecord(mostSimilar=mostSimilar)\n",
    "record"
   ]
  },
  {
   "cell_type": "code",
   "execution_count": 26,
   "id": "59ee4465-5baf-4072-9ce7-caaee6f73cb2",
   "metadata": {},
   "outputs": [
    {
     "data": {
      "text/plain": [
       "False"
      ]
     },
     "execution_count": 26,
     "metadata": {},
     "output_type": "execute_result"
    }
   ],
   "source": [
    "def isBuy(record):\n",
    "    return record[4]\n",
    "isBuy(record)"
   ]
  },
  {
   "cell_type": "markdown",
   "id": "b2dec574-81ff-49b0-8f10-e4a305d3346c",
   "metadata": {},
   "source": [
    "# 6 section 5 (k=3)"
   ]
  },
  {
   "cell_type": "code",
   "execution_count": 27,
   "id": "9937c076-b5a1-45a6-baa2-e447ffe2bc55",
   "metadata": {},
   "outputs": [
    {
     "data": {
      "text/plain": [
       "[[192, 0.9507028855479938],\n",
       " [222, 0.9507028855479938],\n",
       " [221, 0.9507028855479938]]"
      ]
     },
     "execution_count": 27,
     "metadata": {},
     "output_type": "execute_result"
    }
   ],
   "source": [
    "def kMostSimilar(df, new, k=3):\n",
    "    kMost = []\n",
    "    copy = df.copy()\n",
    "    for i in range(k):\n",
    "        kmax = mostSimilarty(copy, new)\n",
    "        kMost.append(kmax)\n",
    "        copy.drop(kmax[0], inplace=True)\n",
    "    return kMost\n",
    "kMost = kMostSimilar(df=dfCopy, new=new, k=3)\n",
    "kMost"
   ]
  },
  {
   "cell_type": "code",
   "execution_count": 28,
   "id": "27cba36d-548c-4aff-a1b6-6f2f033c860b",
   "metadata": {},
   "outputs": [
    {
     "name": "stdout",
     "output_type": "stream",
     "text": [
      "[192, 0.9507028855479938]\n",
      "age              1.707115\n",
      "income           -0.30803\n",
      "student             False\n",
      "cradit_rating        True\n",
      "buy_computer        False\n",
      "Name: 192, dtype: object\n",
      "[222, 0.9507028855479938]\n",
      "age              0.243156\n",
      "income           0.643891\n",
      "student             False\n",
      "cradit_rating        True\n",
      "buy_computer         True\n",
      "Name: 222, dtype: object\n",
      "[221, 0.9507028855479938]\n",
      "age             -1.151089\n",
      "income           1.595812\n",
      "student             False\n",
      "cradit_rating        True\n",
      "buy_computer         True\n",
      "Name: 221, dtype: object\n"
     ]
    },
    {
     "data": {
      "text/plain": [
       "True"
      ]
     },
     "execution_count": 28,
     "metadata": {},
     "output_type": "execute_result"
    }
   ],
   "source": [
    "def majorityVote(kMost, p=2):\n",
    "    counter = 0\n",
    "    size = len(kMost)\n",
    "    for item in kMost:\n",
    "        record = getRecord(item)\n",
    "        print(item)\n",
    "        print(record)\n",
    "        if isBuy(record):\n",
    "            counter += 1\n",
    "    if ((counter / size) >= ((size // p) + 1) / size):\n",
    "        return True\n",
    "    return False\n",
    "    \n",
    "majorityVote(kMost=kMost) "
   ]
  }
 ],
 "metadata": {
  "kernelspec": {
   "display_name": "Python 3 (ipykernel)",
   "language": "python",
   "name": "python3"
  },
  "language_info": {
   "codemirror_mode": {
    "name": "ipython",
    "version": 3
   },
   "file_extension": ".py",
   "mimetype": "text/x-python",
   "name": "python",
   "nbconvert_exporter": "python",
   "pygments_lexer": "ipython3",
   "version": "3.10.1"
  }
 },
 "nbformat": 4,
 "nbformat_minor": 5
}
